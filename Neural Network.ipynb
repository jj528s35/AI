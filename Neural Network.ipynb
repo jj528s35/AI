{
 "cells": [
  {
   "cell_type": "markdown",
   "metadata": {},
   "source": [
    "# Neural Network"
   ]
  },
  {
   "cell_type": "code",
   "execution_count": 1,
   "metadata": {
    "collapsed": true
   },
   "outputs": [],
   "source": [
    "import torch\n",
    "import torch.nn as nn\n",
    "import torch.nn.functional as F\n",
    "import torch.optim as optim\n",
    "from torch.autograd import Variable"
   ]
  },
  {
   "cell_type": "markdown",
   "metadata": {},
   "source": [
    "## Define neural network"
   ]
  },
  {
   "cell_type": "code",
   "execution_count": 2,
   "metadata": {
    "collapsed": true
   },
   "outputs": [],
   "source": [
    "model = nn.Sequential(nn.Linear(784,400),\n",
    "                      nn.Sigmoid(),\n",
    "                      nn.Linear(400,100),\n",
    "                      nn.Sigmoid(),\n",
    "                      nn.Linear(100,10))"
   ]
  },
  {
   "cell_type": "code",
   "execution_count": 3,
   "metadata": {
    "collapsed": true
   },
   "outputs": [],
   "source": [
    "class Net(nn.Module):\n",
    "    def __init__(self):\n",
    "        super(Net, self).__init__()\n",
    "        \n",
    "        self.fc1 = nn.Linear(784,400)\n",
    "        self.fc2 = nn.Linear(400,100)\n",
    "        self.fc3 = nn.Linear(100,10)\n",
    "        \n",
    "    def forward(self,inputs):\n",
    "        x = F.sigmoid(self.fc1(inputs))\n",
    "        x = F.sigmoid(self.fc2(x))\n",
    "        logits = self.fc3(x)\n",
    "        \n",
    "        return logits"
   ]
  },
  {
   "cell_type": "code",
   "execution_count": 4,
   "metadata": {
    "collapsed": true
   },
   "outputs": [],
   "source": [
    "model_ = Net()"
   ]
  },
  {
   "cell_type": "code",
   "execution_count": 5,
   "metadata": {
    "collapsed": false
   },
   "outputs": [
    {
     "data": {
      "text/plain": [
       "Variable containing:\n",
       " 0.3409  0.4988  0.9610  ...   0.7754  0.8196  0.9778\n",
       " 0.3300  0.8087  0.0208  ...   0.5701  0.5714  0.3808\n",
       " 0.2900  0.1132  0.5492  ...   0.9227  0.0239  0.0263\n",
       " 0.1004  0.7625  0.0960  ...   0.3391  0.0618  0.4890\n",
       " 0.7717  0.2243  0.1681  ...   0.5548  0.9140  0.6986\n",
       "[torch.FloatTensor of size 5x784]"
      ]
     },
     "execution_count": 5,
     "metadata": {},
     "output_type": "execute_result"
    }
   ],
   "source": [
    "img = Variable(torch.rand(5,784))\n",
    "img"
   ]
  },
  {
   "cell_type": "code",
   "execution_count": 6,
   "metadata": {
    "collapsed": false
   },
   "outputs": [
    {
     "data": {
      "text/plain": [
       "Variable containing:\n",
       " 0.1426  0.1124  0.0409 -0.3822  0.0828  0.1433 -0.3215 -0.0605  0.1005  0.4434\n",
       " 0.1451  0.1132  0.0379 -0.3835  0.0893  0.1423 -0.3210 -0.0674  0.0956  0.4470\n",
       " 0.1459  0.1127  0.0377 -0.3881  0.0856  0.1450 -0.3216 -0.0614  0.1017  0.4495\n",
       " 0.1461  0.1142  0.0392 -0.3850  0.0855  0.1373 -0.3159 -0.0653  0.0975  0.4501\n",
       " 0.1457  0.1102  0.0408 -0.3863  0.0842  0.1388 -0.3089 -0.0639  0.0947  0.4546\n",
       "[torch.FloatTensor of size 5x10]"
      ]
     },
     "execution_count": 6,
     "metadata": {},
     "output_type": "execute_result"
    }
   ],
   "source": [
    "model(img)"
   ]
  },
  {
   "cell_type": "code",
   "execution_count": 7,
   "metadata": {
    "collapsed": false
   },
   "outputs": [
    {
     "data": {
      "text/plain": [
       "Variable containing:\n",
       "-0.1581  0.2348 -0.2477  0.2997  0.1227 -0.3625  0.3757 -0.1626 -0.6623 -0.3657\n",
       "-0.1617  0.2285 -0.2462  0.2981  0.1235 -0.3567  0.3700 -0.1566 -0.6638 -0.3609\n",
       "-0.1580  0.2304 -0.2435  0.2981  0.1151 -0.3565  0.3690 -0.1630 -0.6665 -0.3645\n",
       "-0.1536  0.2378 -0.2499  0.2987  0.1172 -0.3528  0.3699 -0.1682 -0.6555 -0.3605\n",
       "-0.1671  0.2340 -0.2518  0.2979  0.1279 -0.3573  0.3661 -0.1671 -0.6648 -0.3605\n",
       "[torch.FloatTensor of size 5x10]"
      ]
     },
     "execution_count": 7,
     "metadata": {},
     "output_type": "execute_result"
    }
   ],
   "source": [
    "model_(img)"
   ]
  },
  {
   "cell_type": "markdown",
   "metadata": {},
   "source": [
    "## Loss function"
   ]
  },
  {
   "cell_type": "code",
   "execution_count": 8,
   "metadata": {
    "collapsed": true
   },
   "outputs": [],
   "source": [
    "target = Variable(torch.LongTensor([0,1,2,3,4]))"
   ]
  },
  {
   "cell_type": "code",
   "execution_count": 9,
   "metadata": {
    "collapsed": true
   },
   "outputs": [],
   "source": [
    "predict = model(img)"
   ]
  },
  {
   "cell_type": "code",
   "execution_count": 10,
   "metadata": {
    "collapsed": false
   },
   "outputs": [
    {
     "data": {
      "text/plain": [
       "Variable containing:\n",
       " 2.3597\n",
       "[torch.FloatTensor of size 1]"
      ]
     },
     "execution_count": 10,
     "metadata": {},
     "output_type": "execute_result"
    }
   ],
   "source": [
    "loss = F.cross_entropy(predict , target)\n",
    "loss"
   ]
  },
  {
   "cell_type": "markdown",
   "metadata": {},
   "source": [
    "## Backpropagation"
   ]
  },
  {
   "cell_type": "code",
   "execution_count": 11,
   "metadata": {
    "collapsed": false
   },
   "outputs": [
    {
     "data": {
      "text/plain": [
       "<torch.nn._functions.thnn.auto.NLLLoss at 0x10bfe2a48>"
      ]
     },
     "execution_count": 11,
     "metadata": {},
     "output_type": "execute_result"
    }
   ],
   "source": [
    "loss.creator"
   ]
  },
  {
   "cell_type": "code",
   "execution_count": 12,
   "metadata": {
    "collapsed": false
   },
   "outputs": [
    {
     "data": {
      "text/plain": [
       "<torch.nn._functions.thnn.auto.LogSoftmax at 0x10c038960>"
      ]
     },
     "execution_count": 12,
     "metadata": {},
     "output_type": "execute_result"
    }
   ],
   "source": [
    "loss.creator.previous_functions[0][0]"
   ]
  },
  {
   "cell_type": "code",
   "execution_count": 13,
   "metadata": {
    "collapsed": false
   },
   "outputs": [
    {
     "data": {
      "text/plain": [
       "<torch.nn._functions.linear.Linear at 0x10c038050>"
      ]
     },
     "execution_count": 13,
     "metadata": {},
     "output_type": "execute_result"
    }
   ],
   "source": [
    "loss.creator.previous_functions[0][0].previous_functions[0][0]"
   ]
  },
  {
   "cell_type": "code",
   "execution_count": 14,
   "metadata": {
    "collapsed": true
   },
   "outputs": [],
   "source": [
    "loss.backward()"
   ]
  },
  {
   "cell_type": "code",
   "execution_count": 15,
   "metadata": {
    "collapsed": false
   },
   "outputs": [],
   "source": [
    "params = list(model.parameters())"
   ]
  },
  {
   "cell_type": "code",
   "execution_count": 16,
   "metadata": {
    "collapsed": false
   },
   "outputs": [
    {
     "data": {
      "text/plain": [
       "Parameter containing:\n",
       " 1.5391e-02 -1.8130e-02 -7.3210e-03  ...  -3.3627e-02  5.9824e-03  1.3511e-02\n",
       " 2.5227e-04 -3.8455e-03 -2.5881e-02  ...   1.3448e-02 -3.3613e-03  3.6408e-03\n",
       " 1.2721e-02  2.6192e-02  2.5506e-02  ...   2.8937e-02  3.4349e-02 -2.3863e-02\n",
       "                ...                   ⋱                   ...                \n",
       "-2.0969e-02 -2.6909e-02  3.0413e-02  ...   2.9567e-02  2.6964e-02  2.1366e-02\n",
       " 3.8226e-03 -4.8729e-04 -3.1479e-03  ...   2.6075e-02 -3.2686e-02 -2.2785e-02\n",
       " 8.2182e-03 -1.8010e-02  3.3529e-02  ...  -2.0556e-02  1.7619e-02  3.1764e-03\n",
       "[torch.FloatTensor of size 400x784]"
      ]
     },
     "execution_count": 16,
     "metadata": {},
     "output_type": "execute_result"
    }
   ],
   "source": [
    "params[0]"
   ]
  },
  {
   "cell_type": "code",
   "execution_count": 17,
   "metadata": {
    "collapsed": false
   },
   "outputs": [
    {
     "data": {
      "text/plain": [
       "Variable containing:\n",
       "-1.7878e-04  9.2404e-06  1.5245e-04  ...  -5.5856e-05 -1.1471e-04  1.4096e-05\n",
       " 7.2254e-05  2.3762e-05 -4.1305e-06  ...   6.8050e-05  3.3274e-05  3.3461e-05\n",
       " 1.9179e-04  1.8408e-04 -6.9113e-05  ...   1.5586e-04  1.7892e-04  1.3452e-04\n",
       "                ...                   ⋱                   ...                \n",
       " 1.5499e-04  1.1296e-04  4.7729e-04  ...   4.3040e-04  2.3707e-04  3.2288e-04\n",
       "-1.0361e-04  4.6381e-05  7.1028e-05  ...  -6.2847e-05 -2.4157e-06  4.8307e-05\n",
       " 5.6691e-05  2.7629e-05 -5.7619e-05  ...   7.4924e-05  2.1009e-06 -5.7099e-05\n",
       "[torch.FloatTensor of size 400x784]"
      ]
     },
     "execution_count": 17,
     "metadata": {},
     "output_type": "execute_result"
    }
   ],
   "source": [
    "params[0].grad"
   ]
  },
  {
   "cell_type": "markdown",
   "metadata": {},
   "source": [
    "## Optimization\n"
   ]
  },
  {
   "cell_type": "code",
   "execution_count": 18,
   "metadata": {
    "collapsed": true
   },
   "outputs": [],
   "source": [
    "for p in params:\n",
    "    p = p - 0.01 * p.grad"
   ]
  },
  {
   "cell_type": "code",
   "execution_count": 19,
   "metadata": {
    "collapsed": true
   },
   "outputs": [],
   "source": [
    "train_op = optim.SGD(model.parameters() , lr=0.01)"
   ]
  },
  {
   "cell_type": "code",
   "execution_count": 20,
   "metadata": {
    "collapsed": true
   },
   "outputs": [],
   "source": [
    "train_op.step()"
   ]
  },
  {
   "cell_type": "code",
   "execution_count": null,
   "metadata": {
    "collapsed": true
   },
   "outputs": [],
   "source": []
  }
 ],
 "metadata": {
  "kernelspec": {
   "display_name": "Python 2",
   "language": "python",
   "name": "python2"
  },
  "language_info": {
   "codemirror_mode": {
    "name": "ipython",
    "version": 2
   },
   "file_extension": ".py",
   "mimetype": "text/x-python",
   "name": "python",
   "nbconvert_exporter": "python",
   "pygments_lexer": "ipython2",
   "version": "2.7.13"
  }
 },
 "nbformat": 4,
 "nbformat_minor": 2
}
