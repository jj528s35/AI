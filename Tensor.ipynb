{
 "cells": [
  {
   "cell_type": "markdown",
   "metadata": {},
   "source": [
    "# Tensor\n",
    "\n",
    "## Create tensor\n",
    "\n",
    "- torch\n",
    "- numpy\n",
    "- CUDA"
   ]
  },
  {
   "cell_type": "code",
   "execution_count": 1,
   "metadata": {
    "collapsed": true
   },
   "outputs": [],
   "source": [
    "import torch\n",
    "import numpy as np"
   ]
  },
  {
   "cell_type": "markdown",
   "metadata": {},
   "source": [
    "### torch"
   ]
  },
  {
   "cell_type": "code",
   "execution_count": 2,
   "metadata": {
    "collapsed": false
   },
   "outputs": [
    {
     "data": {
      "text/plain": [
       "\n",
       " 1  2  3\n",
       " 4  5  6\n",
       "[torch.FloatTensor of size 2x3]"
      ]
     },
     "execution_count": 2,
     "metadata": {},
     "output_type": "execute_result"
    }
   ],
   "source": [
    "x = torch.Tensor([[1,2,3],[4,5,6]])\n",
    "x"
   ]
  },
  {
   "cell_type": "code",
   "execution_count": 3,
   "metadata": {
    "collapsed": false
   },
   "outputs": [
    {
     "data": {
      "text/plain": [
       "\n",
       " 0  0  0\n",
       " 0  0  0\n",
       " 0  0  0\n",
       "[torch.FloatTensor of size 3x3]"
      ]
     },
     "execution_count": 3,
     "metadata": {},
     "output_type": "execute_result"
    }
   ],
   "source": [
    "x = torch.zeros(3,3)\n",
    "x"
   ]
  },
  {
   "cell_type": "code",
   "execution_count": 4,
   "metadata": {
    "collapsed": false
   },
   "outputs": [
    {
     "data": {
      "text/plain": [
       "\n",
       "(0 ,.,.) = \n",
       "  0.3723  0.8632 -0.0346\n",
       " -0.9401  2.4799 -0.3898\n",
       "  0.9158 -0.9131 -0.6599\n",
       "\n",
       "(1 ,.,.) = \n",
       "  1.4314  0.6413 -0.4475\n",
       " -0.0180  0.3538  0.1705\n",
       " -1.6899  1.9072 -2.2043\n",
       "\n",
       "(2 ,.,.) = \n",
       " -1.2814 -1.2577  2.1610\n",
       "  1.0765 -0.4196  1.2425\n",
       " -1.5728  1.0954  0.4841\n",
       "[torch.FloatTensor of size 3x3x3]"
      ]
     },
     "execution_count": 4,
     "metadata": {},
     "output_type": "execute_result"
    }
   ],
   "source": [
    "x = torch.randn(3,3,3)\n",
    "x"
   ]
  },
  {
   "cell_type": "markdown",
   "metadata": {},
   "source": [
    "### numpy"
   ]
  },
  {
   "cell_type": "code",
   "execution_count": 5,
   "metadata": {
    "collapsed": false
   },
   "outputs": [
    {
     "data": {
      "text/plain": [
       "\n",
       " 1  2  3\n",
       " 4  5  6\n",
       " 7  8  9\n",
       "[torch.LongTensor of size 3x3]"
      ]
     },
     "execution_count": 5,
     "metadata": {},
     "output_type": "execute_result"
    }
   ],
   "source": [
    "a = np.array([[1,2,3],[4,5,6],[7,8,9]])\n",
    "x = torch.from_numpy(a)\n",
    "x"
   ]
  },
  {
   "cell_type": "code",
   "execution_count": 6,
   "metadata": {
    "collapsed": false
   },
   "outputs": [
    {
     "data": {
      "text/plain": [
       "\n",
       " 1  2  3\n",
       " 4  5  6\n",
       " 7  8  9\n",
       "[torch.FloatTensor of size 3x3]"
      ]
     },
     "execution_count": 6,
     "metadata": {},
     "output_type": "execute_result"
    }
   ],
   "source": [
    "x.type(torch.FloatTensor)"
   ]
  },
  {
   "cell_type": "markdown",
   "metadata": {},
   "source": [
    "### CUDA"
   ]
  },
  {
   "cell_type": "code",
   "execution_count": 7,
   "metadata": {
    "collapsed": false
   },
   "outputs": [
    {
     "data": {
      "text/plain": [
       "False"
      ]
     },
     "execution_count": 7,
     "metadata": {},
     "output_type": "execute_result"
    }
   ],
   "source": [
    "torch.cuda.is_available()"
   ]
  },
  {
   "cell_type": "code",
   "execution_count": 8,
   "metadata": {
    "collapsed": false
   },
   "outputs": [],
   "source": [
    "#x.cuda()"
   ]
  },
  {
   "cell_type": "markdown",
   "metadata": {},
   "source": [
    "## Tensor operations\n",
    "\n",
    "- Slice , split , view\n",
    "- Math\n",
    "- Reduce\n",
    "- Matrix"
   ]
  },
  {
   "cell_type": "code",
   "execution_count": 9,
   "metadata": {
    "collapsed": false
   },
   "outputs": [
    {
     "data": {
      "text/plain": [
       "\n",
       "(0 ,.,.) = \n",
       "  1.2560 -2.6866  1.2138\n",
       "  0.7813  0.8593 -0.5709\n",
       " -0.7927  0.4424 -0.0410\n",
       "\n",
       "(1 ,.,.) = \n",
       "  0.0696  0.1707 -2.1564\n",
       "  0.2129  0.5076  0.7147\n",
       " -1.6299 -0.5619  0.7786\n",
       "\n",
       "(2 ,.,.) = \n",
       " -0.2007 -0.3386 -1.0877\n",
       "  0.3882 -0.9713  0.7199\n",
       "  0.3795  0.3647  0.9334\n",
       "\n",
       "(3 ,.,.) = \n",
       "  0.8604 -2.2801  0.2781\n",
       "  0.6069  0.8735  0.0548\n",
       " -0.5705  0.1032 -1.7274\n",
       "\n",
       "(4 ,.,.) = \n",
       "  0.7028 -0.0678  0.0043\n",
       " -0.0112 -1.3153  1.1893\n",
       " -0.5586 -0.8180 -0.3337\n",
       "[torch.FloatTensor of size 5x3x3]"
      ]
     },
     "execution_count": 9,
     "metadata": {},
     "output_type": "execute_result"
    }
   ],
   "source": [
    "x = torch.randn(5,3,3)\n",
    "x"
   ]
  },
  {
   "cell_type": "markdown",
   "metadata": {},
   "source": [
    "### Slice"
   ]
  },
  {
   "cell_type": "code",
   "execution_count": 10,
   "metadata": {
    "collapsed": false
   },
   "outputs": [
    {
     "data": {
      "text/plain": [
       "\n",
       " 1.2560 -2.6866  1.2138\n",
       " 0.7813  0.8593 -0.5709\n",
       "-0.7927  0.4424 -0.0410\n",
       "[torch.FloatTensor of size 3x3]"
      ]
     },
     "execution_count": 10,
     "metadata": {},
     "output_type": "execute_result"
    }
   ],
   "source": [
    "x[0]"
   ]
  },
  {
   "cell_type": "code",
   "execution_count": 11,
   "metadata": {
    "collapsed": false
   },
   "outputs": [
    {
     "data": {
      "text/plain": [
       "\n",
       " 0.0696  0.1707 -2.1564\n",
       " 0.2129  0.5076  0.7147\n",
       "-1.6299 -0.5619  0.7786\n",
       "[torch.FloatTensor of size 3x3]"
      ]
     },
     "execution_count": 11,
     "metadata": {},
     "output_type": "execute_result"
    }
   ],
   "source": [
    "x[1]"
   ]
  },
  {
   "cell_type": "code",
   "execution_count": 12,
   "metadata": {
    "collapsed": false
   },
   "outputs": [
    {
     "data": {
      "text/plain": [
       "\n",
       "(0 ,.,.) = \n",
       "  1.2560 -2.6866\n",
       "\n",
       "(1 ,.,.) = \n",
       "  0.0696  0.1707\n",
       "[torch.FloatTensor of size 2x1x2]"
      ]
     },
     "execution_count": 12,
     "metadata": {},
     "output_type": "execute_result"
    }
   ],
   "source": [
    "x[:2,:1,:2]"
   ]
  },
  {
   "cell_type": "markdown",
   "metadata": {},
   "source": [
    "### Split"
   ]
  },
  {
   "cell_type": "code",
   "execution_count": 13,
   "metadata": {
    "collapsed": false
   },
   "outputs": [
    {
     "data": {
      "text/plain": [
       "(\n",
       " (0 ,.,.) = \n",
       "   1.2560 -2.6866  1.2138\n",
       "   0.7813  0.8593 -0.5709\n",
       "  -0.7927  0.4424 -0.0410\n",
       " [torch.FloatTensor of size 1x3x3], \n",
       " (0 ,.,.) = \n",
       "   0.0696  0.1707 -2.1564\n",
       "   0.2129  0.5076  0.7147\n",
       "  -1.6299 -0.5619  0.7786\n",
       " [torch.FloatTensor of size 1x3x3], \n",
       " (0 ,.,.) = \n",
       "  -0.2007 -0.3386 -1.0877\n",
       "   0.3882 -0.9713  0.7199\n",
       "   0.3795  0.3647  0.9334\n",
       " [torch.FloatTensor of size 1x3x3], \n",
       " (0 ,.,.) = \n",
       "   0.8604 -2.2801  0.2781\n",
       "   0.6069  0.8735  0.0548\n",
       "  -0.5705  0.1032 -1.7274\n",
       " [torch.FloatTensor of size 1x3x3], \n",
       " (0 ,.,.) = \n",
       "   0.7028 -0.0678  0.0043\n",
       "  -0.0112 -1.3153  1.1893\n",
       "  -0.5586 -0.8180 -0.3337\n",
       " [torch.FloatTensor of size 1x3x3])"
      ]
     },
     "execution_count": 13,
     "metadata": {},
     "output_type": "execute_result"
    }
   ],
   "source": [
    "x.split(1)"
   ]
  },
  {
   "cell_type": "code",
   "execution_count": 14,
   "metadata": {
    "collapsed": false
   },
   "outputs": [
    {
     "data": {
      "text/plain": [
       "(\n",
       " (0 ,.,.) = \n",
       "   1.2560 -2.6866  1.2138\n",
       " \n",
       " (1 ,.,.) = \n",
       "   0.0696  0.1707 -2.1564\n",
       " \n",
       " (2 ,.,.) = \n",
       "  -0.2007 -0.3386 -1.0877\n",
       " \n",
       " (3 ,.,.) = \n",
       "   0.8604 -2.2801  0.2781\n",
       " \n",
       " (4 ,.,.) = \n",
       "   0.7028 -0.0678  0.0043\n",
       " [torch.FloatTensor of size 5x1x3], \n",
       " (0 ,.,.) = \n",
       "   0.7813  0.8593 -0.5709\n",
       " \n",
       " (1 ,.,.) = \n",
       "   0.2129  0.5076  0.7147\n",
       " \n",
       " (2 ,.,.) = \n",
       "   0.3882 -0.9713  0.7199\n",
       " \n",
       " (3 ,.,.) = \n",
       "   0.6069  0.8735  0.0548\n",
       " \n",
       " (4 ,.,.) = \n",
       "  -0.0112 -1.3153  1.1893\n",
       " [torch.FloatTensor of size 5x1x3], \n",
       " (0 ,.,.) = \n",
       "  -0.7927  0.4424 -0.0410\n",
       " \n",
       " (1 ,.,.) = \n",
       "  -1.6299 -0.5619  0.7786\n",
       " \n",
       " (2 ,.,.) = \n",
       "   0.3795  0.3647  0.9334\n",
       " \n",
       " (3 ,.,.) = \n",
       "  -0.5705  0.1032 -1.7274\n",
       " \n",
       " (4 ,.,.) = \n",
       "  -0.5586 -0.8180 -0.3337\n",
       " [torch.FloatTensor of size 5x1x3])"
      ]
     },
     "execution_count": 14,
     "metadata": {},
     "output_type": "execute_result"
    }
   ],
   "source": [
    "x.split(1,1)"
   ]
  },
  {
   "cell_type": "markdown",
   "metadata": {},
   "source": [
    "### View"
   ]
  },
  {
   "cell_type": "code",
   "execution_count": 15,
   "metadata": {
    "collapsed": false
   },
   "outputs": [
    {
     "data": {
      "text/plain": [
       "\n",
       " 1.2560 -2.6866  1.2138  0.7813  0.8593 -0.5709 -0.7927  0.4424 -0.0410\n",
       " 0.0696  0.1707 -2.1564  0.2129  0.5076  0.7147 -1.6299 -0.5619  0.7786\n",
       "-0.2007 -0.3386 -1.0877  0.3882 -0.9713  0.7199  0.3795  0.3647  0.9334\n",
       " 0.8604 -2.2801  0.2781  0.6069  0.8735  0.0548 -0.5705  0.1032 -1.7274\n",
       " 0.7028 -0.0678  0.0043 -0.0112 -1.3153  1.1893 -0.5586 -0.8180 -0.3337\n",
       "[torch.FloatTensor of size 5x9]"
      ]
     },
     "execution_count": 15,
     "metadata": {},
     "output_type": "execute_result"
    }
   ],
   "source": [
    "x.view(5,-1)"
   ]
  },
  {
   "cell_type": "markdown",
   "metadata": {},
   "source": [
    "### Math"
   ]
  },
  {
   "cell_type": "code",
   "execution_count": 16,
   "metadata": {
    "collapsed": true
   },
   "outputs": [],
   "source": [
    "x = torch.ones(3,3)\n",
    "y = torch.randn(3,3)"
   ]
  },
  {
   "cell_type": "code",
   "execution_count": 17,
   "metadata": {
    "collapsed": false
   },
   "outputs": [
    {
     "data": {
      "text/plain": [
       "\n",
       " 1  1  1\n",
       " 1  1  1\n",
       " 1  1  1\n",
       "[torch.FloatTensor of size 3x3]"
      ]
     },
     "execution_count": 17,
     "metadata": {},
     "output_type": "execute_result"
    }
   ],
   "source": [
    "x"
   ]
  },
  {
   "cell_type": "code",
   "execution_count": 18,
   "metadata": {
    "collapsed": false
   },
   "outputs": [
    {
     "data": {
      "text/plain": [
       "\n",
       "-0.8074  0.3494 -0.9100\n",
       "-1.6102 -0.5293  0.8052\n",
       " 0.7931 -2.0233  1.0102\n",
       "[torch.FloatTensor of size 3x3]"
      ]
     },
     "execution_count": 18,
     "metadata": {},
     "output_type": "execute_result"
    }
   ],
   "source": [
    "y"
   ]
  },
  {
   "cell_type": "code",
   "execution_count": 19,
   "metadata": {
    "collapsed": false
   },
   "outputs": [
    {
     "data": {
      "text/plain": [
       "\n",
       "-2 -2 -2\n",
       "-2 -2 -2\n",
       "-2 -2 -2\n",
       "[torch.FloatTensor of size 3x3]"
      ]
     },
     "execution_count": 19,
     "metadata": {},
     "output_type": "execute_result"
    }
   ],
   "source": [
    "x-3"
   ]
  },
  {
   "cell_type": "code",
   "execution_count": 20,
   "metadata": {
    "collapsed": false
   },
   "outputs": [
    {
     "data": {
      "text/plain": [
       "\n",
       " 0.1926  1.3494  0.0900\n",
       "-0.6102  0.4707  1.8052\n",
       " 1.7931 -1.0233  2.0102\n",
       "[torch.FloatTensor of size 3x3]"
      ]
     },
     "execution_count": 20,
     "metadata": {},
     "output_type": "execute_result"
    }
   ],
   "source": [
    "x+y"
   ]
  },
  {
   "cell_type": "code",
   "execution_count": 21,
   "metadata": {
    "collapsed": false
   },
   "outputs": [
    {
     "data": {
      "text/plain": [
       "\n",
       "-0.8074  0.3494 -0.9100\n",
       "-1.6102 -0.5293  0.8052\n",
       " 0.7931 -2.0233  1.0102\n",
       "[torch.FloatTensor of size 3x3]"
      ]
     },
     "execution_count": 21,
     "metadata": {},
     "output_type": "execute_result"
    }
   ],
   "source": [
    "x*y"
   ]
  },
  {
   "cell_type": "code",
   "execution_count": 22,
   "metadata": {
    "collapsed": false
   },
   "outputs": [
    {
     "data": {
      "text/plain": [
       "\n",
       "    nan -1.0515     nan\n",
       "    nan     nan -0.2166\n",
       "-0.2318     nan  0.0101\n",
       "[torch.FloatTensor of size 3x3]"
      ]
     },
     "execution_count": 22,
     "metadata": {},
     "output_type": "execute_result"
    }
   ],
   "source": [
    "torch.log(y)"
   ]
  },
  {
   "cell_type": "markdown",
   "metadata": {},
   "source": [
    "### Reduce"
   ]
  },
  {
   "cell_type": "code",
   "execution_count": 23,
   "metadata": {
    "collapsed": true
   },
   "outputs": [],
   "source": [
    "x = torch.LongTensor([1,2,3,4])"
   ]
  },
  {
   "cell_type": "code",
   "execution_count": 24,
   "metadata": {
    "collapsed": false
   },
   "outputs": [
    {
     "data": {
      "text/plain": [
       "10"
      ]
     },
     "execution_count": 24,
     "metadata": {},
     "output_type": "execute_result"
    }
   ],
   "source": [
    "x.sum()"
   ]
  },
  {
   "cell_type": "code",
   "execution_count": 25,
   "metadata": {
    "collapsed": false
   },
   "outputs": [
    {
     "data": {
      "text/plain": [
       "24"
      ]
     },
     "execution_count": 25,
     "metadata": {},
     "output_type": "execute_result"
    }
   ],
   "source": [
    "x.prod()"
   ]
  },
  {
   "cell_type": "code",
   "execution_count": 26,
   "metadata": {
    "collapsed": false
   },
   "outputs": [
    {
     "data": {
      "text/plain": [
       "\n",
       "-0.8730 -0.5875 -0.9142\n",
       "-0.0775  0.8245  0.2209\n",
       " 1.0478 -0.3181  0.7889\n",
       "[torch.FloatTensor of size 3x3]"
      ]
     },
     "execution_count": 26,
     "metadata": {},
     "output_type": "execute_result"
    }
   ],
   "source": [
    "x = torch.randn(3,3)\n",
    "x"
   ]
  },
  {
   "cell_type": "code",
   "execution_count": 27,
   "metadata": {
    "collapsed": false
   },
   "outputs": [
    {
     "data": {
      "text/plain": [
       "0.11182044446468353"
      ]
     },
     "execution_count": 27,
     "metadata": {},
     "output_type": "execute_result"
    }
   ],
   "source": [
    "x.sum()"
   ]
  },
  {
   "cell_type": "code",
   "execution_count": 28,
   "metadata": {
    "collapsed": false
   },
   "outputs": [
    {
     "data": {
      "text/plain": [
       "0.01242449382940928"
      ]
     },
     "execution_count": 28,
     "metadata": {},
     "output_type": "execute_result"
    }
   ],
   "source": [
    "x.mean()"
   ]
  },
  {
   "cell_type": "code",
   "execution_count": 29,
   "metadata": {
    "collapsed": false
   },
   "outputs": [
    {
     "data": {
      "text/plain": [
       "0.7498178212745747"
      ]
     },
     "execution_count": 29,
     "metadata": {},
     "output_type": "execute_result"
    }
   ],
   "source": [
    "x.std()"
   ]
  },
  {
   "cell_type": "code",
   "execution_count": 30,
   "metadata": {
    "collapsed": false
   },
   "outputs": [
    {
     "data": {
      "text/plain": [
       "1.0477913618087769"
      ]
     },
     "execution_count": 30,
     "metadata": {},
     "output_type": "execute_result"
    }
   ],
   "source": [
    "x.max()"
   ]
  },
  {
   "cell_type": "code",
   "execution_count": 31,
   "metadata": {
    "collapsed": false
   },
   "outputs": [],
   "source": [
    "v,i = x.max(1)"
   ]
  },
  {
   "cell_type": "code",
   "execution_count": 32,
   "metadata": {
    "collapsed": false
   },
   "outputs": [
    {
     "data": {
      "text/plain": [
       "\n",
       "-0.5875\n",
       " 0.8245\n",
       " 1.0478\n",
       "[torch.FloatTensor of size 3x1]"
      ]
     },
     "execution_count": 32,
     "metadata": {},
     "output_type": "execute_result"
    }
   ],
   "source": [
    "v"
   ]
  },
  {
   "cell_type": "code",
   "execution_count": 33,
   "metadata": {
    "collapsed": false
   },
   "outputs": [
    {
     "data": {
      "text/plain": [
       "\n",
       " 1\n",
       " 1\n",
       " 0\n",
       "[torch.LongTensor of size 3x1]"
      ]
     },
     "execution_count": 33,
     "metadata": {},
     "output_type": "execute_result"
    }
   ],
   "source": [
    "i"
   ]
  },
  {
   "cell_type": "markdown",
   "metadata": {},
   "source": [
    "### Matrix"
   ]
  },
  {
   "cell_type": "code",
   "execution_count": 34,
   "metadata": {
    "collapsed": true
   },
   "outputs": [],
   "source": [
    "x = torch.randn(3,4)\n",
    "y = torch.randn(4,3)"
   ]
  },
  {
   "cell_type": "code",
   "execution_count": 35,
   "metadata": {
    "collapsed": false
   },
   "outputs": [
    {
     "data": {
      "text/plain": [
       "\n",
       "-0.3812 -0.0188  2.4928\n",
       "-1.0213  0.3274 -0.4137\n",
       " 0.5971  0.0788 -0.8408\n",
       "-0.0885 -1.3937 -0.4048\n",
       "[torch.FloatTensor of size 4x3]"
      ]
     },
     "execution_count": 35,
     "metadata": {},
     "output_type": "execute_result"
    }
   ],
   "source": [
    "x.t()"
   ]
  },
  {
   "cell_type": "code",
   "execution_count": 36,
   "metadata": {
    "collapsed": false
   },
   "outputs": [
    {
     "data": {
      "text/plain": [
       "\n",
       "-0.8527 -1.5143  0.6887\n",
       "-0.9274  0.4244  1.9087\n",
       " 3.3511  1.1479  0.3072\n",
       "[torch.FloatTensor of size 3x3]"
      ]
     },
     "execution_count": 36,
     "metadata": {},
     "output_type": "execute_result"
    }
   ],
   "source": [
    "x.mm(y)"
   ]
  },
  {
   "cell_type": "code",
   "execution_count": 37,
   "metadata": {
    "collapsed": false
   },
   "outputs": [
    {
     "data": {
      "text/plain": [
       "\n",
       "-1.0598 -0.4001  0.7894 -1.1499\n",
       "-1.2775  1.1722  0.3197 -1.7190\n",
       " 0.0208  1.9268 -0.7422 -0.4050\n",
       "-3.9462  0.1769  1.5472  0.5088\n",
       "[torch.FloatTensor of size 4x4]"
      ]
     },
     "execution_count": 37,
     "metadata": {},
     "output_type": "execute_result"
    }
   ],
   "source": [
    "y.mm(x)"
   ]
  },
  {
   "cell_type": "code",
   "execution_count": 38,
   "metadata": {
    "collapsed": false
   },
   "outputs": [
    {
     "data": {
      "text/plain": [
       "-2.518187999725342"
      ]
     },
     "execution_count": 38,
     "metadata": {},
     "output_type": "execute_result"
    }
   ],
   "source": [
    "x.dot(y)"
   ]
  },
  {
   "cell_type": "code",
   "execution_count": 39,
   "metadata": {
    "collapsed": true
   },
   "outputs": [],
   "source": [
    "x = torch.randn(5,3,4)\n",
    "y = torch.randn(5,4,3)"
   ]
  },
  {
   "cell_type": "code",
   "execution_count": 40,
   "metadata": {
    "collapsed": false
   },
   "outputs": [
    {
     "data": {
      "text/plain": [
       "\n",
       "(0 ,.,.) = \n",
       "  0.6955 -1.4806  1.1092\n",
       "  1.3355  3.3814 -1.2884\n",
       "  1.4454 -0.5958 -0.5759\n",
       "\n",
       "(1 ,.,.) = \n",
       " -0.2553  0.1855  0.9421\n",
       "  0.0523  0.6222  5.4711\n",
       " -1.6041  3.4399  5.9549\n",
       "\n",
       "(2 ,.,.) = \n",
       " -0.7458  1.6292 -0.2646\n",
       "  0.2553  1.3018  1.5904\n",
       " -1.5529 -0.1996  0.2507\n",
       "\n",
       "(3 ,.,.) = \n",
       " -1.9604 -3.6180  0.1623\n",
       "  0.6643  0.9902 -1.6544\n",
       " -0.5105  0.1755 -0.7487\n",
       "\n",
       "(4 ,.,.) = \n",
       "  0.0151 -1.4919  0.1834\n",
       "  0.6428  0.5051  0.2750\n",
       " -1.4842  0.4454  1.2119\n",
       "[torch.FloatTensor of size 5x3x3]"
      ]
     },
     "execution_count": 40,
     "metadata": {},
     "output_type": "execute_result"
    }
   ],
   "source": [
    "x.bmm(y)"
   ]
  }
 ],
 "metadata": {
  "kernelspec": {
   "display_name": "Python 2",
   "language": "python",
   "name": "python2"
  },
  "language_info": {
   "codemirror_mode": {
    "name": "ipython",
    "version": 2
   },
   "file_extension": ".py",
   "mimetype": "text/x-python",
   "name": "python",
   "nbconvert_exporter": "python",
   "pygments_lexer": "ipython2",
   "version": "2.7.13"
  }
 },
 "nbformat": 4,
 "nbformat_minor": 2
}
